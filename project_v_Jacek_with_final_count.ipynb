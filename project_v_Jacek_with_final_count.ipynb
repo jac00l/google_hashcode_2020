{
 "cells": [
  {
   "cell_type": "code",
   "execution_count": 1,
   "metadata": {},
   "outputs": [],
   "source": [
    "from time import time\n",
    "import random"
   ]
  },
  {
   "cell_type": "markdown",
   "metadata": {},
   "source": [
    "### Evaluation function "
   ]
  },
  {
   "cell_type": "code",
   "execution_count": 2,
   "metadata": {},
   "outputs": [],
   "source": [
    "def evaluate_solution(solution, books_scores):\n",
    "    books_scanned = set()\n",
    "    points = 0\n",
    "    number_of_libraries = solution[0]\n",
    "    #print(\"Num of libraries: \", number_of_libraries)\n",
    "    for i in range(1, number_of_libraries+1):\n",
    "        number_of_books = solution[i][1]\n",
    "        #print(\"Num of books in libr: \",i, \":\", number_of_books)\n",
    "        for j in range(number_of_books):\n",
    "            book_to_add = solution[i][2][j]\n",
    "            if book_to_add not in books_scanned:\n",
    "                books_scanned.add(book_to_add)\n",
    "                #print(\"add: \", book_to_add)\n",
    "    #print(\"Books scanned: \", books_scanned)\n",
    "    #print(\"Books scores: \", books_scores)\n",
    "    solution_score = 0\n",
    "    for i in books_scanned:\n",
    "        solution_score += books_scores[i]\n",
    "        \n",
    "    return solution_score"
   ]
  },
  {
   "cell_type": "markdown",
   "metadata": {},
   "source": [
    "### Get complete solution from list of solutions"
   ]
  },
  {
   "cell_type": "code",
   "execution_count": 3,
   "metadata": {},
   "outputs": [],
   "source": [
    "def get_complete_solution(solution_indices, libraries, days_number, books_scores):\n",
    "    time_pointer = days_number\n",
    "    used_books = set()\n",
    "    complete_solution = [len(solution_indices)]\n",
    "    for i in solution_indices:\n",
    "        time_pointer -= libraries[i][0][1]\n",
    "        books_per_day = libraries[i][0][2]\n",
    "        available_books = list(libraries[i][1])\n",
    "        particular_solution = [i, 0, []]\n",
    "        available_books.sort(key = (lambda x: books_scores[x]))\n",
    "        for x in available_books:\n",
    "            if len(particular_solution[2]) > time_pointer * books_per_day:\n",
    "                break\n",
    "            if x not in used_books:\n",
    "                particular_solution[2].append(x)\n",
    "                particular_solution[1] += 1\n",
    "                used_books.add(x)\n",
    "        particular_solution[2] = tuple(particular_solution[2])\n",
    "        complete_solution.append(tuple(particular_solution))\n",
    "    return tuple(complete_solution)"
   ]
  },
  {
   "cell_type": "markdown",
   "metadata": {},
   "source": [
    "### Initial population"
   ]
  },
  {
   "cell_type": "code",
   "execution_count": 4,
   "metadata": {},
   "outputs": [],
   "source": [
    "def get_random_solution(libraries_number, days_number, libraries, books_scores):\n",
    "    solution_indices = []\n",
    "    time_pointer = 0\n",
    "    while True:\n",
    "        random_index = random.choice(list(range(libraries_number)))\n",
    "        random_library = libraries[random_index]\n",
    "        if time_pointer + random_library[0][1] > days_number:\n",
    "            break                                 \n",
    "        if random_index not in solution_indices:\n",
    "            solution_indices.append(random_index)\n",
    "            time_pointer += random_library[0][1]\n",
    "    return get_complete_solution(solution_indices, libraries, days_number, books_scores)\n",
    "        \n",
    "    \n",
    "def get_initial_population(population_size, libraries_number, days_number, libraries, books):\n",
    "    population = []\n",
    "    for _ in range(population_size):\n",
    "        population.append(get_random_solution(libraries_number, days_number, libraries, books))\n",
    "    return population    "
   ]
  },
  {
   "cell_type": "markdown",
   "metadata": {},
   "source": [
    "### Mutation"
   ]
  },
  {
   "cell_type": "code",
   "execution_count": 5,
   "metadata": {},
   "outputs": [],
   "source": [
    "def mutate(solution, libraries, days_number, books_scores):\n",
    "    solution_indices = [solution[i][0] for i in range(1, len(solution))]\n",
    "    nucleotide_a = random.randint(0, len(solution_indices) - 1)\n",
    "    nucleotide_b = random.randint(0, len(solution_indices) - 1)\n",
    "    solution_indices[nucleotide_a], solution_indices[nucleotide_b] = solution_indices[nucleotide_b], solution_indices[nucleotide_a]\n",
    "    return get_complete_solution(solution_indices, libraries, days_number, books_scores)\n",
    "\n",
    "def do_mutations(population, libraries, days_number, books_scores):\n",
    "    mutated_solutions = []\n",
    "    for solution in population:\n",
    "        mutated_solutions.append(mutate(solution, libraries, days_number, books_scores))\n",
    "    return mutated_solutions"
   ]
  },
  {
   "cell_type": "markdown",
   "metadata": {},
   "source": [
    "## Crossover"
   ]
  },
  {
   "cell_type": "code",
   "execution_count": 6,
   "metadata": {},
   "outputs": [],
   "source": [
    "def get_children(parent_a, parent_b, libraries, days_number, books_scores):\n",
    "    parent_a_indices = [parent_a[i][0] for i in range(1, len(parent_a))]\n",
    "    parent_b_indices = [parent_b[i][0] for i in range(1, len(parent_b))]\n",
    "    split_point = random.randint(0, min(len(parent_a_indices), len(parent_b_indices)) - 1)\n",
    "    parent_a_indices[:split_point], parent_b_indices[split_point:] = parent_b_indices[:split_point], parent_a_indices[split_point:]\n",
    "    for parent in (parent_a_indices, parent_b_indices):\n",
    "        time_pointer = 0\n",
    "        for i in range(len(parent)):\n",
    "            if time_pointer >= days_number:\n",
    "                parent_a_indices = parent[:i]\n",
    "                break\n",
    "            time_pointer += libraries[parent[i]][1]\n",
    "        time_pointer = 0\n",
    "    child_a = get_complete_solution(parent_a_indices, libraries, days_number, books_scores)\n",
    "    child_b = get_complete_solution(parent_a_indices, libraries, days_number, books_scores)\n",
    "    return (child_a, child_b)\n",
    "    "
   ]
  },
  {
   "cell_type": "code",
   "execution_count": 7, 
   "metadata": {},
   "outputs": [],
   "source": [
    "def get_offspring(population, libraries, days_number, books_scores):\n",
    "    offspring = []\n",
    "    for i in range(len(population), 2):\n",
    "        offspring.append(get_children(population[i], population[i + 1], libraries, days_number, books_scores))\n",
    "    return tuple(offspring)"
   ]
  },
  {
   "cell_type": "markdown",
   "metadata": {},
   "source": [
    "# Main"
   ]
  },
  {
   "cell_type": "markdown",
   "metadata": {},
   "source": [
    "<font color=\"blue\">__Specify how long program is able to run here (in seconds)__</blue>"
   ]
  },
  {
   "cell_type": "code",
   "execution_count": 26,
   "metadata": {},
   "outputs": [],
   "source": [
    "max_duration = 200\n",
    "epochs_duration = []\n",
    "epochs_duration.append(time())\n",
    "epochs_duration.append(time())"
   ]
  },
  {
   "cell_type": "markdown",
   "metadata": {},
   "source": [
    "<font color=\"blue\">__Specify population size here__</font>"
   ]
  },
  {
   "cell_type": "code",
   "execution_count": 27,
   "metadata": {},
   "outputs": [],
   "source": [
    "#population_size = 40"
   ]
  },
  {
   "cell_type": "markdown",
   "metadata": {},
   "source": [
    "### Read data"
   ]
  },
  {
   "cell_type": "markdown",
   "metadata": {},
   "source": [
    "<font color=blue>__Specify path to input file here__</font>"
   ]
  },
  {
   "cell_type": "code",
   "execution_count": 28,
   "metadata": {},
   "outputs": [
    {
     "name": "stdout",
     "output_type": "stream",
     "text": [
      "For:  instances/a_example.txt solution is:  21\n",
      "For:  instances/b_read_on.txt solution is:  4382200\n",
      "For:  instances/c_incunabula.txt solution is:  868216\n",
      "For:  instances/d_tough_choices.txt solution is:  4346550\n",
      "For:  instances/e_so_many_books.txt solution is:  260459\n",
      "For:  instances/f_libraries_of_the_world.txt solution is:  413114\n"
     ]
    }
   ],
   "source": [
    "instances = [\"instances/a_example.txt\", \"instances/b_read_on.txt\", \"instances/c_incunabula.txt\", \"instances/d_tough_choices.txt\", \"instances/e_so_many_books.txt\", \"instances/f_libraries_of_the_world.txt\"]\n",
    "\n",
    "total_solution = 0\n",
    "for i in instances:\n",
    "    file = open(i, \"r\")\n",
    "    \n",
    "    #load data from the source code\n",
    "    books_number, libraries_number, days_number = [int(x) for x in file.readline().split()]\n",
    "        \n",
    "    if(libraries_number <= 1000):\n",
    "        population_size = 100\n",
    "    elif(libraries_number <= 10000):\n",
    "        population_size = 40\n",
    "    else:\n",
    "        population_size = 15\n",
    "\n",
    "    books_scores = tuple([int(x) for x in file.readline().split()])\n",
    "    libraries = [None] * libraries_number\n",
    "    for j in range(libraries_number):\n",
    "        libraries[j] = (tuple([int(x) for x in file.readline().split()]), tuple([int(x) for x in file.readline().split()]))\n",
    "    libraries = tuple(libraries) \n",
    "    \n",
    "    #get initial population\n",
    "    population = get_initial_population(population_size, libraries_number, days_number, libraries, books_scores)\n",
    "\n",
    "    #main loops - epochs\n",
    "    epoch = 0\n",
    "    while epochs_duration[0] + max_duration >= time() + (epochs_duration[-1] - epochs_duration[-2]) * 2:\n",
    "        mutations = do_mutations(population, libraries, days_number, books_scores)\n",
    "        offspring = get_offspring(population, days_number, libraries, books_scores)\n",
    "        population.extend(offspring)\n",
    "        population.extend(mutations)\n",
    "        population.sort(key = lambda x: evaluate_solution(x, books_scores), reverse = True)\n",
    "        population = population[:population_size]\n",
    "        epochs_duration.append(time())\n",
    "        #print(\"epoch: \" + str(epoch) + \"; timestamp: \" + str(round(time() - epochs_duration[0], 2)) +  \"; epoch's duration: \", str(round(epochs_duration[-1] - epochs_duration[-2], 2)) + \"; best solution: \" + str(evaluate_solution(population[0], books_scores)))\n",
    "        epoch += 1\n",
    "    \n",
    "    sol = evaluate_solution(population[0], books_scores)\n",
    "    print(\"For: \", i, \"solution is: \", sol)\n",
    "    \n",
    "    total_solution += sol"
   ]
  },
  {
   "cell_type": "code",
   "execution_count": 29,
   "metadata": {},
   "outputs": [
    {
     "name": "stdout",
     "output_type": "stream",
     "text": [
      "10270560\n"
     ]
    }
   ],
   "source": [
    "print(total_solution)"
   ]
  },
  {
   "cell_type": "code",
   "execution_count": null,
   "metadata": {},
   "outputs": [],
   "source": []
  }
 ],
 "metadata": {
  "kernelspec": {
   "display_name": "Python 3",
   "language": "python",
   "name": "python3"
  },
  "language_info": {
   "codemirror_mode": {
    "name": "ipython",
    "version": 3
   },
   "file_extension": ".py",
   "mimetype": "text/x-python",
   "name": "python",
   "nbconvert_exporter": "python",
   "pygments_lexer": "ipython3",
   "version": "3.7.4"
  }
 },
 "nbformat": 4,
 "nbformat_minor": 4
}
