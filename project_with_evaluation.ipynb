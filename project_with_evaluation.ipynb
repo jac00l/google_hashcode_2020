{
 "cells": [
  {
   "cell_type": "code",
   "execution_count": 1,
   "metadata": {},
   "outputs": [],
   "source": [
    "from time import time\n",
    "import random\n",
    "import statistics"
   ]
  },
  {
   "cell_type": "markdown",
   "metadata": {},
   "source": [
    "### Library heuristic"
   ]
  },
  {
   "cell_type": "code",
   "execution_count": 2,
   "metadata": {},
   "outputs": [],
   "source": [
    "def library_heuristic(library, books_scores):\n",
    "    if len(library[1]) == 1:\n",
    "        return library[1][0]\n",
    "    books = library[1]\n",
    "    scores = [books_scores[x] for x in books]\n",
    "    total_score = sum(scores)\n",
    "    variance = statistics.variance(scores)\n",
    "    return total_score / max(0.01, variance)"
   ]
  },
  {
   "cell_type": "markdown",
   "metadata": {},
   "source": [
    "### Evaluation function "
   ]
  },
  {
   "cell_type": "code",
   "execution_count": 3,
   "metadata": {},
   "outputs": [],
   "source": [
    "def evaluate_solution(solution, books_scores):\n",
    "    books_scanned = set()\n",
    "    points = 0\n",
    "    number_of_libraries = solution[0]\n",
    "    for i in range(1, number_of_libraries+1):\n",
    "        number_of_books = solution[i][1]\n",
    "        for j in range(number_of_books):\n",
    "            book_to_add = solution[i][2][j]\n",
    "            if book_to_add not in books_scanned:\n",
    "                books_scanned.add(book_to_add)\n",
    "    solution_score = 0\n",
    "    for i in books_scanned:\n",
    "        solution_score += books_scores[i]\n",
    "        \n",
    "    return solution_score"
   ]
  },
  {
   "cell_type": "markdown",
   "metadata": {},
   "source": [
    "### Get complete solution from list of solutions"
   ]
  },
  {
   "cell_type": "code",
   "execution_count": 4,
   "metadata": {},
   "outputs": [],
   "source": [
    "def get_complete_solution(solution_indices, libraries, days_number, books_scores):\n",
    "    time_pointer = days_number\n",
    "    used_books = set()\n",
    "    complete_solution = [len(solution_indices)]\n",
    "    for i in solution_indices:\n",
    "        time_pointer -= libraries[i][0][1]\n",
    "        books_per_day = libraries[i][0][2]\n",
    "        available_books = list(libraries[i][1])\n",
    "        particular_solution = [i, 0, []]\n",
    "        available_books.sort(key = lambda x: books_scores[x], reverse = True)\n",
    "        for x in available_books:\n",
    "            if len(particular_solution[2]) > time_pointer * books_per_day:\n",
    "                break\n",
    "            if x not in used_books:\n",
    "                particular_solution[2].append(x)\n",
    "                particular_solution[1] += 1\n",
    "                used_books.add(x)\n",
    "        particular_solution[2] = tuple(particular_solution[2])\n",
    "        complete_solution.append(tuple(particular_solution))\n",
    "    return tuple(complete_solution)"
   ]
  },
  {
   "cell_type": "markdown",
   "metadata": {},
   "source": [
    "### Get greedy-like solution"
   ]
  },
  {
   "cell_type": "code",
   "execution_count": 5,
   "metadata": {},
   "outputs": [],
   "source": [
    "def get_greedy_solution(libraries_number, days_number, libraries, libraries_heuristics, books_scores):\n",
    "    libraries_to_use = list(range(libraries_number))\n",
    "    libraries_to_use.sort(key = lambda x: library_heuristic(libraries[x], books_scores), reverse = True)\n",
    "    solution_indices = []\n",
    "    time_pointer = 0\n",
    "    for i in range(libraries_number):\n",
    "        if time_pointer + libraries[libraries_to_use[i]][0][1] >= days_number:\n",
    "            break\n",
    "        solution_indices.append(libraries_to_use[i])\n",
    "        time_pointer += libraries[libraries_to_use[i]][0][1]\n",
    "    return get_complete_solution(solution_indices, libraries, days_number, books_scores)"
   ]
  },
  {
   "cell_type": "markdown",
   "metadata": {},
   "source": [
    "### Initial population"
   ]
  },
  {
   "cell_type": "code",
   "execution_count": 6,
   "metadata": {},
   "outputs": [],
   "source": [
    "def get_random_solution(libraries_number, days_number, libraries, libraries_heuristics, books_scores):\n",
    "    libraries_to_use = list(range(libraries_number))\n",
    "    libraries_to_use_heuristics = list(libraries_heuristics)\n",
    "    solution_indices = []\n",
    "    time_pointer = 0\n",
    "    while True:\n",
    "        if not len(libraries_to_use):\n",
    "            return get_complete_solution(solution_indices, libraries, days_number, books_scores)\n",
    "        random_index = random.choices(list(range(0, len(libraries_to_use))), weights = libraries_to_use_heuristics, k = 1)[0]\n",
    "        del libraries_to_use[random_index]\n",
    "        del libraries_to_use_heuristics[random_index]\n",
    "        if time_pointer + libraries[random_index][0][1] > days_number:\n",
    "            break                                 \n",
    "        solution_indices.append(random_index)\n",
    "        time_pointer += libraries[random_index][0][1]\n",
    "    return get_complete_solution(solution_indices, libraries, days_number, books_scores)\n",
    "        \n",
    "    \n",
    "def get_initial_population(population_size, libraries_number, days_number, libraries, libraries_heuristics, books, timestamp, max_duration):\n",
    "    population = []\n",
    "    for i in range(population_size):\n",
    "        population.append(get_random_solution(libraries_number, days_number, libraries, libraries_heuristics, books))\n",
    "        if i % 2 and time() - timestamp >= max_duration / 2:\n",
    "            return (i, population)\n",
    "    return (population_size, population)"
   ]
  },
  {
   "cell_type": "markdown",
   "metadata": {},
   "source": [
    "### Mutation"
   ]
  },
  {
   "cell_type": "code",
   "execution_count": 7,
   "metadata": {},
   "outputs": [],
   "source": [
    "def mutate(solution, libraries, days_number, books_scores):\n",
    "    solution_indices = [solution[i][0] for i in range(1, len(solution))]\n",
    "    for _ in range(3):\n",
    "        nucleotide_a = random.randint(0, len(solution_indices) - 1)\n",
    "        nucleotide_b = random.randint(0, len(solution_indices) - 1)\n",
    "        solution_indices[nucleotide_a], solution_indices[nucleotide_b] = solution_indices[nucleotide_b], solution_indices[nucleotide_a]\n",
    "    return get_complete_solution(solution_indices, libraries, days_number, books_scores)\n",
    "\n",
    "def do_mutations(population, libraries, days_number, books_scores):\n",
    "    mutated_solutions = []\n",
    "    for solution in population:\n",
    "        mutated_solutions.append(mutate(solution, libraries, days_number, books_scores))\n",
    "    return mutated_solutions"
   ]
  },
  {
   "cell_type": "markdown",
   "metadata": {},
   "source": [
    "## Crossover"
   ]
  },
  {
   "cell_type": "code",
   "execution_count": 8,
   "metadata": {},
   "outputs": [],
   "source": [
    "def get_children(parent_a, parent_b, libraries, days_number, books_scores):\n",
    "    parent_a_indices = [parent_a[i][0] for i in range(1, len(parent_a))]\n",
    "    parent_b_indices = [parent_b[i][0] for i in range(1, len(parent_b))]\n",
    "    split_point = random.randint(0, min(len(parent_a_indices), len(parent_b_indices)) - 1)\n",
    "    child_a_indices = parent_a_indices[:split_point] + [x for x in parent_b_indices[split_point:] if x not in parent_a_indices[:split_point]]\n",
    "    child_b_indices = parent_b_indices[:split_point] + [x for x in parent_a_indices[split_point:] if x not in parent_b_indices[:split_point]]\n",
    "    for parent in (parent_a_indices, parent_b_indices):\n",
    "        time_pointer = 0\n",
    "        for i in range(len(parent)):\n",
    "            if time_pointer >= days_number:\n",
    "                parent_a_indices = parent[:i]\n",
    "                break\n",
    "            time_pointer += libraries[parent[i]][1]\n",
    "        time_pointer = 0\n",
    "    child_a = get_complete_solution(child_a_indices, libraries, days_number, books_scores)\n",
    "    child_b = get_complete_solution(child_b_indices, libraries, days_number, books_scores)\n",
    "    return (child_a, child_b)"
   ]
  },
  {
   "cell_type": "code",
   "execution_count": 9,
   "metadata": {},
   "outputs": [],
   "source": [
    "def get_offspring(population, libraries, days_number, books_scores):\n",
    "    offspring = []\n",
    "    mating_pool = [evaluate_solution(population[i], books_scores) for i in range(len(population))] \n",
    "    for i in range(len(population), 2):\n",
    "        offspring.append(get_children(random.choices(population, weights = mating_pool, k = 2)), libraries, days_number, books_scores)\n",
    "    return tuple(offspring)"
   ]
  },
  {
   "cell_type": "markdown",
   "metadata": {},
   "source": [
    "# Main"
   ]
  },
  {
   "cell_type": "markdown",
   "metadata": {},
   "source": [
    "<font color=\"blue\">__Specify how long program is able to run here (in seconds)__</blue>"
   ]
  },
  {
   "cell_type": "code",
   "execution_count": 10,
   "metadata": {},
   "outputs": [],
   "source": [
    "max_duration = 300"
   ]
  },
  {
   "cell_type": "markdown",
   "metadata": {},
   "source": [
    "### Read data"
   ]
  },
  {
   "cell_type": "markdown",
   "metadata": {},
   "source": [
    "<font color=blue>__Specify path to input file here__</font>"
   ]
  },
  {
   "cell_type": "code",
   "execution_count": 11,
   "metadata": {},
   "outputs": [
    {
     "name": "stdout",
     "output_type": "stream",
     "text": [
      "For:  instances/a_example.txt solution is:  21\n",
      "For:  instances/b_read_on.txt solution is:  5052300\n",
      "For:  instances/c_incunabula.txt solution is:  1180242\n",
      "For:  instances/d_tough_choices.txt solution is:  4815330\n",
      "For:  instances/e_so_many_books.txt solution is:  1630347\n",
      "For:  instances/f_libraries_of_the_world.txt solution is:  1285568\n"
     ]
    }
   ],
   "source": [
    "instances = [\"instances/a_example.txt\", \"instances/b_read_on.txt\", \"instances/c_incunabula.txt\", \"instances/d_tough_choices.txt\", \"instances/e_so_many_books.txt\", \"instances/f_libraries_of_the_world.txt\"]\n",
    "\n",
    "total_solution = 0\n",
    "for i in instances:\n",
    "    population_size = 80\n",
    "    epochs_duration = []\n",
    "    epochs_duration.append(time())    \n",
    "    file = open(i, \"r\")\n",
    "    \n",
    "    #load data from the source code\n",
    "    books_number, libraries_number, days_number = [int(x) for x in file.readline().split()]\n",
    "    books_scores = tuple([int(x) for x in file.readline().split()])\n",
    "    libraries = [None] * libraries_number\n",
    "    for j in range(libraries_number):\n",
    "        libraries[j] = (tuple([int(x) for x in file.readline().split()]), tuple([int(x) for x in file.readline().split()]))\n",
    "    libraries = tuple(libraries) \n",
    "    \n",
    "    #get library heuristic values\n",
    "    libraries_heuristics = tuple([library_heuristic(library, books_scores) for library in libraries])\n",
    "    \n",
    "    #get initial population\n",
    "    population_size, population = get_initial_population(population_size - 1, libraries_number, days_number, libraries, libraries_heuristics, books_scores, epochs_duration[0], max_duration)\n",
    "    population_size += 1\n",
    "    population.append(get_greedy_solution(libraries_number, days_number, libraries, libraries_heuristics, books_scores))\n",
    "\n",
    "    #main loops - epochs\n",
    "    epochs_duration.append(time())\n",
    "    epochs_duration.append(time())\n",
    "    while epochs_duration[0] + max_duration - 5 >= time() + (epochs_duration[-1] - epochs_duration[-2]) * 2:\n",
    "        mutations = do_mutations(population, libraries, days_number, books_scores)\n",
    "        offspring = get_offspring(population, days_number, libraries, books_scores)\n",
    "        population.extend(mutations)\n",
    "        population.extend(offspring)\n",
    "        population.sort(key = lambda x: evaluate_solution(x, books_scores), reverse = True)\n",
    "        population = population[:population_size]\n",
    "        epochs_duration.append(time())\n",
    "    \n",
    "    sol = evaluate_solution(population[0], books_scores)\n",
    "    print(\"For: \", i, \"solution is: \", sol)\n",
    "    \n",
    "    total_solution += sol"
   ]
  },
  {
   "cell_type": "code",
   "execution_count": 12,
   "metadata": {},
   "outputs": [
    {
     "name": "stdout",
     "output_type": "stream",
     "text": [
      "13963808\n"
     ]
    }
   ],
   "source": [
    "print(total_solution)"
   ]
  }
 ],
 "metadata": {
  "kernelspec": {
   "display_name": "Python 3",
   "language": "python",
   "name": "python3"
  },
  "language_info": {
   "codemirror_mode": {
    "name": "ipython",
    "version": 3
   },
   "file_extension": ".py",
   "mimetype": "text/x-python",
   "name": "python",
   "nbconvert_exporter": "python",
   "pygments_lexer": "ipython3",
   "version": "3.7.4"
  }
 },
 "nbformat": 4,
 "nbformat_minor": 4
}
