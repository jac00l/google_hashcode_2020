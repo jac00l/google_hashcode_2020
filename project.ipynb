{
 "cells": [
  {
   "cell_type": "markdown",
   "metadata": {},
   "source": [
    "# Introduction"
   ]
  },
  {
   "cell_type": "markdown",
   "metadata": {},
   "source": [
    "## Authors\n",
    "Magdalena Kobusińska and Jacek Karolczak"
   ]
  },
  {
   "cell_type": "markdown",
   "metadata": {},
   "source": [
    "## Abstract\n",
    "The following document is a code review for soultion of NP-Hard problem, described by Google in Google Hashcode 2020 problem statement. This problem has been stated as semester project for Combinatorial Optimization course by M.Sc. Jarosław Synak. Given problem is NP-Hard, so we decided to implement Genetic Algorithm. We decided to update  GA principals to meet our needs. The key difficulty occured finding good heuristic function."
   ]
  },
  {
   "cell_type": "markdown",
   "metadata": {},
   "source": [
    "# Preparation"
   ]
  },
  {
   "cell_type": "markdown",
   "metadata": {},
   "source": [
    "## Modules\n",
    "To develop our solution we used following Python built-in modules:\n",
    "\\begin{itemize}\n",
    "\\item \\texttt{time} - to limit time in which our program will be running;\n",
    "\\item \\texttt{random} - to choose random index in creating individual; to choose individuals which will do crossover, according to mating pool;\n",
    "\\item \\texttt{statistics} - to compute heuristic of library, using variance.\n",
    "\\end{itemize}"
   ]
  },
  {
   "cell_type": "code",
   "execution_count": null,
   "metadata": {},
   "outputs": [],
   "source": [
    "from time import time\n",
    "import random\n",
    "import statistics"
   ]
  },
  {
   "cell_type": "markdown",
   "metadata": {},
   "source": [
    "## Time measurments\n",
    "One of requirements of the project is to return result within 300 seconds from the beginning. To meet this criterion we decided to store duration of each epoch (actually time stamp of epoch completion time) in a list."
   ]
  },
  {
   "cell_type": "code",
   "execution_count": null,
   "metadata": {},
   "outputs": [],
   "source": [
    "epochs_duration = []\n",
    "epochs_duration.append(time())"
   ]
  },
  {
   "cell_type": "markdown",
   "metadata": {},
   "source": [
    "## Library heuristic"
   ]
  },
  {
   "cell_type": "markdown",
   "metadata": {},
   "source": [
    "To compute heuristic value for library we use following formula:\n",
    "$$heuristicValue=\\frac{\\sum_{i=0}^{size}bookScore_{i}}{max(0.01, var(bookScores))*signUpTime}$$\n",
    "We want to maximize sum of scores of books in the given library. That is why we put this value in numerator. Another factor which we decided to take into account time necessary to sign up the library - we want to minimize this factor, so we put it in the denominator. Last factor, which changed results of our program was variance of books' scores in library. In some test cases, for some libraries variance was equal to zero, so we added substitution with 0.01 if variance equals 0."
   ]
  },
  {
   "cell_type": "code",
   "execution_count": null,
   "metadata": {},
   "outputs": [],
   "source": [
    "def library_heuristic(library, books_scores):\n",
    "    if len(library[1]) == 1:\n",
    "        return library[1][0]\n",
    "    books = library[1]\n",
    "    scores = [books_scores[x] for x in books]\n",
    "    total_score = sum(scores)\n",
    "    variance = statistics.variance(scores)\n",
    "    return total_score / (max(0.01, variance) * library[0][1])"
   ]
  },
  {
   "cell_type": "markdown",
   "metadata": {},
   "source": [
    "## Evaluation function "
   ]
  },
  {
   "cell_type": "markdown",
   "metadata": {},
   "source": [
    "In many places it is usefull or even necessary to know how good is the particular solution. Thus we decided to implement function, which will return fitness value for the solution - finess value is a precise value which is described in Google Hashcode problem description."
   ]
  },
  {
   "cell_type": "code",
   "execution_count": null,
   "metadata": {},
   "outputs": [],
   "source": [
    "def evaluate_solution(solution, books_scores):\n",
    "    books_scanned = set()\n",
    "    points = 0\n",
    "    number_of_libraries = solution[0]\n",
    "    for i in range(1, number_of_libraries+1):\n",
    "        number_of_books = solution[i][1]\n",
    "        for j in range(number_of_books):\n",
    "            book_to_add = solution[i][2][j]\n",
    "            if book_to_add not in books_scanned:\n",
    "                books_scanned.add(book_to_add)\n",
    "    solution_score = 0\n",
    "    for i in books_scanned:\n",
    "        solution_score += books_scores[i]\n",
    "        \n",
    "    return solution_score"
   ]
  },
  {
   "cell_type": "markdown",
   "metadata": {},
   "source": [
    "## Get complete solution from list of solutions"
   ]
  },
  {
   "cell_type": "markdown",
   "metadata": {},
   "source": [
    "In many places, like mutation and crrosover operators, our program operates on set containing libraries choosen to sign up in particular solution, which are ordered according to order in sign-up queue. Following function transform such a list into complete and valid solution. For each day, for each library, as long as there is time to send book, is choosen a book (or books) with highest score, which is available in library and hasn't been sent by another library."
   ]
  },
  {
   "cell_type": "code",
   "execution_count": null,
   "metadata": {},
   "outputs": [],
   "source": [
    "def get_complete_solution(solution_indices, libraries, days_number, books_scores):\n",
    "    time_pointer = days_number\n",
    "    used_books = set()\n",
    "    complete_solution = [len(solution_indices)]\n",
    "    for i in solution_indices:\n",
    "        time_pointer -= libraries[i][0][1]\n",
    "        books_per_day = libraries[i][0][2]\n",
    "        available_books = list(libraries[i][1])\n",
    "        particular_solution = [i, 0, []]\n",
    "        available_books.sort(key = lambda x: books_scores[x], reverse = True)\n",
    "        for x in available_books:\n",
    "            if len(particular_solution[2]) > time_pointer * books_per_day:\n",
    "                break\n",
    "            if x not in used_books:\n",
    "                particular_solution[2].append(x)\n",
    "                particular_solution[1] += 1\n",
    "                used_books.add(x)\n",
    "        particular_solution[2] = tuple(particular_solution[2])\n",
    "        complete_solution.append(tuple(particular_solution))\n",
    "    return tuple(complete_solution)"
   ]
  },
  {
   "cell_type": "markdown",
   "metadata": {},
   "source": [
    "# Genetic Operators\n",
    "## Selection\n",
    "### Initial population\n",
    "Each solution is created by adding arbitrary, not used library to the solution as long as time necessary to sign up all library in solution doesn't exceep available time. Choosing artitrary library is determined by it's heuristic values - the higher the value the more preferable library."
   ]
  },
  {
   "cell_type": "code",
   "execution_count": null,
   "metadata": {},
   "outputs": [],
   "source": [
    "def get_random_solution(libraries_number, days_number, libraries, libraries_heuristics, books_scores):\n",
    "    libraries_to_use = list(range(libraries_number))\n",
    "    libraries_to_use_heuristics = list(libraries_heuristics)\n",
    "    solution_indices = []\n",
    "    time_pointer = 0\n",
    "    while True:\n",
    "        if not len(libraries_to_use):\n",
    "            return get_complete_solution(solution_indices, libraries, days_number, books_scores)\n",
    "        random_index = random.choices(list(range(0, len(libraries_to_use))), weights = libraries_to_use_heuristics, k = 1)[0]\n",
    "        del libraries_to_use[random_index]\n",
    "        del libraries_to_use_heuristics[random_index]\n",
    "        if time_pointer + libraries[random_index][0][1] > days_number:\n",
    "            break                                 \n",
    "        solution_indices.append(random_index)\n",
    "        time_pointer += libraries[random_index][0][1]\n",
    "    return get_complete_solution(solution_indices, libraries, days_number, books_scores)"
   ]
  },
  {
   "cell_type": "markdown",
   "metadata": {},
   "source": [
    "We decided to create initial population as long as it's size is equal to setted size or the half of available time runs out. Last element of the initial populaiton is a greedy solution (see below)."
   ]
  },
  {
   "cell_type": "code",
   "execution_count": null,
   "metadata": {},
   "outputs": [],
   "source": [
    "def get_initial_population(population_size, libraries_number, days_number, libraries, libraries_heuristics, books, timestamp, max_duration):\n",
    "    population = []\n",
    "    for i in range(population_size):\n",
    "        population.append(get_random_solution(libraries_number, days_number, libraries, libraries_heuristics, books))\n",
    "        if i % 2 and time() - timestamp >= max_duration / 2:\n",
    "            return (i, population)\n",
    "    return (population_size, population)"
   ]
  },
  {
   "cell_type": "markdown",
   "metadata": {},
   "source": [
    "### Get greedy-like solution\n",
    "One of project requirement is to return result which is not worse than greedy solution. To meet this constraint we decided, that program will add greedy-like solution to the initial population, to be sure, that our final solution won't be worse than greedy solution."
   ]
  },
  {
   "cell_type": "code",
   "execution_count": null,
   "metadata": {},
   "outputs": [],
   "source": [
    "def get_greedy_solution(libraries_number, days_number, libraries, libraries_heuristics, books_scores):\n",
    "    libraries_to_use = list(range(libraries_number))\n",
    "    libraries_to_use.sort(key = lambda x: library_heuristic(libraries[x], books_scores), reverse = True)\n",
    "    solution_indices = []\n",
    "    time_pointer = 0\n",
    "    for i in range(libraries_number):\n",
    "        if time_pointer + libraries[libraries_to_use[i]][0][1] >= days_number:\n",
    "            break\n",
    "        solution_indices.append(libraries_to_use[i])\n",
    "        time_pointer += libraries[libraries_to_use[i]][0][1]\n",
    "    return get_complete_solution(solution_indices, libraries, days_number, books_scores)"
   ]
  },
  {
   "cell_type": "markdown",
   "metadata": {},
   "source": [
    "### Mutation"
   ]
  },
  {
   "cell_type": "markdown",
   "metadata": {},
   "source": [
    "The algorithm swap nucleotides in three pairs. Thus, it's prone to ommit optima, but after our experiments we figured out, that on our instances that gives better results if our time is so limited."
   ]
  },
  {
   "cell_type": "code",
   "execution_count": null,
   "metadata": {},
   "outputs": [],
   "source": [
    "def mutate(solution, libraries, days_number, books_scores):\n",
    "    solution_indices = [solution[i][0] for i in range(1, len(solution))]\n",
    "    for _ in range(3):\n",
    "        nucleotide_a = random.randint(0, len(solution_indices) - 1)\n",
    "        nucleotide_b = random.randint(0, len(solution_indices) - 1)\n",
    "        solution_indices[nucleotide_a], solution_indices[nucleotide_b] = solution_indices[nucleotide_b], solution_indices[nucleotide_a]\n",
    "    return get_complete_solution(solution_indices, libraries, days_number, books_scores)"
   ]
  },
  {
   "cell_type": "markdown",
   "metadata": {},
   "source": [
    "Our Genetic Algorithm mutate each solution, we do not use any probability to determine chance of mutation occurence like in a typicial GP."
   ]
  },
  {
   "cell_type": "code",
   "execution_count": null,
   "metadata": {},
   "outputs": [],
   "source": [
    "def do_mutations(population, libraries, days_number, books_scores):\n",
    "    mutated_solutions = []\n",
    "    for solution in population:\n",
    "        mutated_solutions.append(mutate(solution, libraries, days_number, books_scores))\n",
    "    return mutated_solutions"
   ]
  },
  {
   "cell_type": "markdown",
   "metadata": {},
   "source": [
    "## Crossover"
   ]
  },
  {
   "cell_type": "markdown",
   "metadata": {},
   "source": [
    "Program use single-point crossover. It means, that first child consists of first half of first parent and second from the second one and second child consits of first half of second parent and second from the first one. Algorithm takes care also for validness of the solution. "
   ]
  },
  {
   "cell_type": "code",
   "execution_count": null,
   "metadata": {},
   "outputs": [],
   "source": [
    "def get_children(parent_a, parent_b, libraries, days_number, books_scores):\n",
    "    parent_a_indices = [parent_a[i][0] for i in range(1, len(parent_a))]\n",
    "    parent_b_indices = [parent_b[i][0] for i in range(1, len(parent_b))]\n",
    "    split_point = random.randint(0, min(len(parent_a_indices), len(parent_b_indices)) - 1)\n",
    "    child_a_indices = parent_a_indices[:split_point] + [x for x in parent_b_indices[split_point:] if x not in parent_a_indices[:split_point]]\n",
    "    child_b_indices = parent_b_indices[:split_point] + [x for x in parent_a_indices[split_point:] if x not in parent_b_indices[:split_point]]\n",
    "    for parent in (parent_a_indices, parent_b_indices):\n",
    "        time_pointer = 0\n",
    "        for i in range(len(parent)):\n",
    "            if time_pointer >= days_number:\n",
    "                parent_a_indices = parent[:i]\n",
    "                break\n",
    "            time_pointer += libraries[parent[i]][1]\n",
    "        time_pointer = 0\n",
    "    child_a = get_complete_solution(child_a_indices, libraries, days_number, books_scores)\n",
    "    child_b = get_complete_solution(child_b_indices, libraries, days_number, books_scores)\n",
    "    return (child_a, child_b)"
   ]
  },
  {
   "cell_type": "markdown",
   "metadata": {},
   "source": [
    "Our algorithm creates new individuals in such a way, that offspring size equals population size. Mating pool consists of values of population."
   ]
  },
  {
   "cell_type": "code",
   "execution_count": null,
   "metadata": {},
   "outputs": [],
   "source": [
    "def get_offspring(population, libraries, days_number, books_scores):\n",
    "    offspring = []\n",
    "    mating_pool = [evaluate_solution(population[i], books_scores) for i in range(len(population))] \n",
    "    for i in range(len(population), 2):\n",
    "        offspring.append(get_children(random.choices(population, weights = mating_pool, k = 2)), libraries, days_number, books_scores)\n",
    "    return tuple(offspring)"
   ]
  },
  {
   "cell_type": "markdown",
   "metadata": {},
   "source": [
    "# Main\n",
    "## Parameterization\n",
    "Time is specified by a project requirements."
   ]
  },
  {
   "cell_type": "code",
   "execution_count": null,
   "metadata": {},
   "outputs": [],
   "source": [
    "max_duration = 300"
   ]
  },
  {
   "cell_type": "markdown",
   "metadata": {},
   "source": [
    "We did many experiments to find operators which will do best in finding best solution. This same had been done for size of population."
   ]
  },
  {
   "cell_type": "code",
   "execution_count": null,
   "metadata": {},
   "outputs": [],
   "source": [
    "population_size = 80"
   ]
  },
  {
   "cell_type": "markdown",
   "metadata": {},
   "source": [
    "## Read data\n",
    "The following part of a code is responsible for decapsulation input data for useful and understable for the program form."
   ]
  },
  {
   "cell_type": "code",
   "execution_count": null,
   "metadata": {},
   "outputs": [],
   "source": [
    "books_number, libraries_number, days_number = [int(x) for x in input().split()]\n",
    "books_scores = tuple([int(x) for x in input().split()])\n",
    "libraries = [None] * libraries_number\n",
    "for i in range(libraries_number):\n",
    "    libraries[i] = (tuple([int(x) for x in input().split()]), tuple([int(x) for x in input().split()]))\n",
    "libraries = tuple(libraries) "
   ]
  },
  {
   "cell_type": "markdown",
   "metadata": {},
   "source": [
    "## Getting initial population\n",
    "The following snippet is responsible for creating tuple, which stores heuristic values for libraries. Such values are necessary to create an initial population. Mechanism is widely described above function which is in charge of creating initial population."
   ]
  },
  {
   "cell_type": "code",
   "execution_count": null,
   "metadata": {},
   "outputs": [],
   "source": [
    "libraries_heuristics = tuple([library_heuristic(library, books_scores) for library in libraries])"
   ]
  },
  {
   "cell_type": "markdown",
   "metadata": {},
   "source": [
    "Here program is obtaining initial population. Process of generating population is limited to half of the time given to execute program, to prevent exceeding time with no solution or with quite poor solutin. Thus, final population size may vary from given in parameters declaration."
   ]
  },
  {
   "cell_type": "code",
   "execution_count": null,
   "metadata": {},
   "outputs": [],
   "source": [
    "population_size, population = get_initial_population(population_size - 1, libraries_number, days_number, libraries, libraries_heuristics, books_scores, epochs_duration[0], max_duration)"
   ]
  },
  {
   "cell_type": "markdown",
   "metadata": {},
   "source": [
    "One of requirements of the project is to return solution which is not worse than greedy solution. To meet this requirement program add greedy solution to the initial population. We are aware, that adding greedy solution may make program prone to stuck in local optima, but we want to be sure, that in worst case out solution will be at least as good as greedy solution."
   ]
  },
  {
   "cell_type": "code",
   "execution_count": null,
   "metadata": {},
   "outputs": [],
   "source": [
    "population_size += 1\n",
    "population.append(get_greedy_solution(libraries_number, days_number, libraries, libraries_heuristics, books_scores))"
   ]
  },
  {
   "cell_type": "markdown",
   "metadata": {},
   "source": [
    "## Main loop - epochs\n",
    "Epochs are executed as long as time remaining for program execution is greater or equal to doubled last epoch's duration + 5 seconds. This quarantee, that program will not only finish searching for best solution, but also print the best solution in given time. The program repeat following procedure:\n",
    "```\n",
    "In each epoch:\n",
    "    extend population with mutated individuals\n",
    "    extend population with offspring\n",
    "    choose population_size best indiciduals to create new population\n",
    "```"
   ]
  },
  {
   "cell_type": "code",
   "execution_count": null,
   "metadata": {},
   "outputs": [],
   "source": [
    "epochs_duration.append(time())\n",
    "epochs_duration.append(time())\n",
    "while epochs_duration[0] + max_duration - 5 >= time() + (epochs_duration[-1] - epochs_duration[-2]) * 2:\n",
    "    mutations = do_mutations(population, libraries, days_number, books_scores)\n",
    "    offspring = get_offspring(population, days_number, libraries, books_scores)\n",
    "    population.extend(mutations)\n",
    "    population.extend(offspring)\n",
    "    population.sort(key = lambda x: evaluate_solution(x, books_scores), reverse = True)\n",
    "    population = population[:population_size]\n",
    "    epochs_duration.append(time())"
   ]
  },
  {
   "cell_type": "markdown",
   "metadata": {},
   "source": [
    "At the end, when program is running out of time, best solution as first individual of population. Thus last step to obtain solution is to print it out. Our program do this in a format specified by project requirements."
   ]
  },
  {
   "cell_type": "code",
   "execution_count": null,
   "metadata": {},
   "outputs": [],
   "source": [
    "print(population[0][0])\n",
    "for i in range(1, len(population[0])):\n",
    "    print(population[0][i][0], population[0][i][1], end = \" \")\n",
    "    print(\" \".join([str(x) for x in population[0][i][2]]))"
   ]
  }
 ],
 "metadata": {
  "kernelspec": {
   "display_name": "Python 3",
   "language": "python",
   "name": "python3"
  },
  "language_info": {
   "codemirror_mode": {
    "name": "ipython",
    "version": 3
   },
   "file_extension": ".py",
   "mimetype": "text/x-python",
   "name": "python",
   "nbconvert_exporter": "python",
   "pygments_lexer": "ipython3",
   "version": "3.7.4"
  }
 },
 "nbformat": 4,
 "nbformat_minor": 4
}
