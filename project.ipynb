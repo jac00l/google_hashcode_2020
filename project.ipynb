{
 "cells": [
  {
   "cell_type": "markdown",
   "metadata": {},
   "source": [
    "## Read data"
   ]
  },
  {
   "cell_type": "markdown",
   "metadata": {},
   "source": [
    "<font color=blue>__Specify path to input file here__</font>"
   ]
  },
  {
   "cell_type": "code",
   "execution_count": 1,
   "metadata": {},
   "outputs": [],
   "source": [
    "file = open(\"instances/a_example.txt\", \"r\")"
   ]
  },
  {
   "cell_type": "markdown",
   "metadata": {},
   "source": [
    "Load data from source file to the program"
   ]
  },
  {
   "cell_type": "code",
   "execution_count": 2,
   "metadata": {},
   "outputs": [],
   "source": [
    "books_number, libraries_number, days_number = [int(x) for x in file.readline().split()]\n",
    "books_scores = tuple([int(x) for x in file.readline().split()])\n",
    "libraries = [None] * libraries_number\n",
    "for i in range(libraries_number):\n",
    "    libraries[i] = (tuple([int(x) for x in file.readline().split()]), tuple([int(x) for x in file.readline().split()]))\n",
    "libraries = tuple(libraries) "
   ]
  },
  {
   "cell_type": "code",
   "execution_count": 3,
   "metadata": {},
   "outputs": [
    {
     "name": "stdout",
     "output_type": "stream",
     "text": [
      "Meta data:\n",
      "\tBooks     -> 6\n",
      "\tLibraries -> 2\n",
      "\tDays      -> 7\n",
      "Books' scores:\n",
      "\t(1, 2, 3, 6, 5, 4)\n",
      "Libraries:\n",
      "\tLibrary no. 0:\n",
      "\t\tNumber of books   -> 5\n",
      "\t\tDays to sign up   -> 2\n",
      "\t\tBook ship per day -> 2\n",
      "\t\tAvailiable books:\n",
      "\t\t\t(0, 1, 2, 3, 4)\n",
      "\n",
      "\tLibrary no. 1:\n",
      "\t\tNumber of books   -> 4\n",
      "\t\tDays to sign up   -> 3\n",
      "\t\tBook ship per day -> 1\n",
      "\t\tAvailiable books:\n",
      "\t\t\t(0, 2, 3, 5)\n",
      "\n"
     ]
    }
   ],
   "source": [
    "def print_input():\n",
    "    #meta data\n",
    "    print('Meta data:')\n",
    "    print('\\tBooks     -> ' + str(books_number))\n",
    "    print('\\tLibraries -> ' + str(libraries_number))\n",
    "    print('\\tDays      -> ' + str(days_number))\n",
    "    \n",
    "    #books scores\n",
    "    print('Books\\' scores:\\n\\t' + str(books_scores))\n",
    "\n",
    "    #libraries\n",
    "    print('Libraries:')\n",
    "    for i, lib in zip(range(len(libraries)), libraries):\n",
    "        print('\\tLibrary no. ' + str(i) + ':')\n",
    "        print('\\t\\tNumber of books   -> ' + str(lib[0][0]))\n",
    "        print('\\t\\tDays to sign up   -> ' + str(lib[0][1]))\n",
    "        print('\\t\\tBook ship per day -> ' + str(lib[0][2]))\n",
    "        print('\\t\\tAvailiable books:')\n",
    "        print('\\t\\t\\t' + str(lib[1]) + '\\n')\n",
    "    \n",
    "print_input()"
   ]
  }
 ],
 "metadata": {
  "kernelspec": {
   "display_name": "Python 3",
   "language": "python",
   "name": "python3"
  },
  "language_info": {
   "codemirror_mode": {
    "name": "ipython",
    "version": 3
   },
   "file_extension": ".py",
   "mimetype": "text/x-python",
   "name": "python",
   "nbconvert_exporter": "python",
   "pygments_lexer": "ipython3",
   "version": "3.7.4"
  }
 },
 "nbformat": 4,
 "nbformat_minor": 2
}
