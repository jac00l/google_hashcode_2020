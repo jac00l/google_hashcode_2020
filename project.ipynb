{
 "cells": [
  {
   "cell_type": "code",
   "execution_count": 1,
   "metadata": {},
   "outputs": [],
   "source": [
    "from time import time\n",
    "import random\n",
    "import numpy as np"
   ]
  },
  {
   "cell_type": "markdown",
   "metadata": {},
   "source": [
    "### Evaluation function \n",
    "#### !! (added one more input element -> book_scores)"
   ]
  },
  {
   "cell_type": "code",
   "execution_count": 2,
   "metadata": {},
   "outputs": [],
   "source": [
    "def evaluate_solution(solution, books_scores):\n",
    "    books_scanned = []\n",
    "    points = 0\n",
    "    number_of_libraries = solution[0]\n",
    "    #print(\"Num of libraries: \", number_of_libraries)\n",
    "    for i in range(1, number_of_libraries+1):\n",
    "        number_of_books = solution[i][1]\n",
    "        #print(\"Num of books in libr: \",i, \":\", number_of_books)\n",
    "        for j in range(number_of_books):\n",
    "            book_to_add = solution[i][2][j]\n",
    "            if book_to_add not in books_scanned:\n",
    "                books_scanned.append(book_to_add)\n",
    "                #print(\"add: \", book_to_add)\n",
    "    #print(\"Books scanned: \", books_scanned)\n",
    "    #print(\"Books scores: \", books_scores)\n",
    "    solution_score = 0\n",
    "    for i in books_scanned:\n",
    "        solution_score += books_scores[i]\n",
    "        \n",
    "    return solution_score"
   ]
  },
  {
   "cell_type": "markdown",
   "metadata": {},
   "source": [
    "### Initial population\n",
    "#### (changed 'from random import choice' to 'import random' and changed that in your code)"
   ]
  },
  {
   "cell_type": "code",
   "execution_count": 3,
   "metadata": {},
   "outputs": [],
   "source": [
    "def get_random_solution(libraries_number, days_number, libraries, books_scores):\n",
    "    #generate solution\n",
    "    solution_indices = []\n",
    "    time_pointer = 0\n",
    "    while True:\n",
    "        random_index = random.choice(list(range(libraries_number)))\n",
    "        random_library = libraries[random_index]\n",
    "        if time_pointer + random_library[0][1] > days_number:\n",
    "            break                                 \n",
    "        if random_index not in solution_indices:\n",
    "            solution_indices.append(random_index)\n",
    "            time_pointer += random_library[0][1]\n",
    "    #create complete solution\n",
    "    time_pointer = days_number\n",
    "    used_books = []\n",
    "    complete_solution = [len(solution_indices)]\n",
    "    for i in solution_indices:\n",
    "        time_pointer -= libraries[i][0][1]\n",
    "        books_per_day = libraries[i][0][2]\n",
    "        available_books = list(libraries[i][1])\n",
    "        particular_solution = [i, 0, []]\n",
    "        available_books.sort(key = (lambda x: books_scores[x]))\n",
    "        for x in available_books:\n",
    "            if len(particular_solution[2]) > time_pointer * books_per_day:\n",
    "                break\n",
    "            if x not in used_books:\n",
    "                particular_solution[2].append(x)\n",
    "                particular_solution[1] += 1\n",
    "                used_books.append(x)\n",
    "        particular_solution[2] = tuple(particular_solution[2])\n",
    "        complete_solution.append(tuple(particular_solution))\n",
    "    return tuple(complete_solution)\n",
    "        \n",
    "    \n",
    "def get_initial_population(population_size, libraries_number, days_number, libraries, books):\n",
    "    population = []\n",
    "    for _ in range(population_size):\n",
    "        population.append(get_random_solution(libraries_number, days_number, libraries, books))\n",
    "    return population    "
   ]
  },
  {
   "cell_type": "markdown",
   "metadata": {},
   "source": [
    "### Mutation"
   ]
  },
  {
   "cell_type": "code",
   "execution_count": 4,
   "metadata": {},
   "outputs": [],
   "source": [
    "def mutate(solution):\n",
    "    pass\n",
    "\n",
    "def do_mutations(population):\n",
    "    mutated_solutions = []\n",
    "    for solution in population:\n",
    "        mutated_solutions.append(mutate(solution))\n",
    "    return mutated_solutions"
   ]
  },
  {
   "cell_type": "markdown",
   "metadata": {},
   "source": [
    "## Crossover\n",
    "#### !!! (Added an input param to get_children -> so also to get_offspring, did a function is_valid to be easier)"
   ]
  },
  {
   "cell_type": "code",
   "execution_count": 5,
   "metadata": {},
   "outputs": [],
   "source": [
    "def is_valid_child(child, days_number):\n",
    "    sign_in_time = 0\n",
    "    for i in range(1, child[0]):\n",
    "        lib = child[i][0]\n",
    "        sign_in_time += libraries[lib][0][1]\n",
    "        while(sign_in_time > days_number):\n",
    "            child = (child[0]-1,)+child[1:child[0]-1]\n",
    "            is_valid_child(child)\n",
    "    return child"
   ]
  },
  {
   "cell_type": "code",
   "execution_count": 15,
   "metadata": {},
   "outputs": [],
   "source": [
    "def get_children(days_number, solution_a, solution_b, libraries):\n",
    "    length_a = solution_a[0]\n",
    "    length_b = solution_b[0]\n",
    "    xpoint_a = int((length_a+1)/2)\n",
    "    xpoint_b = int((length_b+1)/2)\n",
    "    #print(xpoint_a, xpoint_b)\n",
    "    \n",
    "    chunk_a1 = solution_a[1:xpoint_a]\n",
    "    chunk_a2 = solution_a[xpoint_a:]\n",
    "    chunk_b1 = solution_b[1:xpoint_b]\n",
    "    chunk_b2 = solution_b[xpoint_b:]\n",
    "    a = (len(chunk_a1+chunk_b2))\n",
    "    b = (len(chunk_b1+chunk_a2))\n",
    "    children_a = (a,)+chunk_a1+chunk_b2\n",
    "    children_b = (b,)+chunk_b1+chunk_a2\n",
    "    #print(children_a)\n",
    "    #print(children_b)\n",
    "\n",
    "    is_valid_child(children_a, days_number)\n",
    "    is_valid_child(children_b, days_number)\n",
    "    \n",
    "    return children_a , children_b\n",
    "\n",
    "def get_offspring(days_number, population, libraries):\n",
    "    # let the population_size be EVEN\n",
    "    offspring = tuple()\n",
    "    for i in range (int(population_size/2)):\n",
    "        offspring += get_children(days_number, population[i], population[i+1], libraries)\n",
    "        \n",
    "    return offspring"
   ]
  },
  {
   "cell_type": "markdown",
   "metadata": {},
   "source": [
    "# Main"
   ]
  },
  {
   "cell_type": "markdown",
   "metadata": {},
   "source": [
    "<font color=\"blue\">__Specify how long program is able to run here (in seconds)__</blue>"
   ]
  },
  {
   "cell_type": "code",
   "execution_count": 16,
   "metadata": {},
   "outputs": [],
   "source": [
    "max_duration = 300\n",
    "epochs_duration = []\n",
    "epochs_duration.append(time())\n",
    "epochs_duration.append(time())"
   ]
  },
  {
   "cell_type": "markdown",
   "metadata": {},
   "source": [
    "<font color=\"blue\">__Specify population size here__</font>"
   ]
  },
  {
   "cell_type": "code",
   "execution_count": 17,
   "metadata": {},
   "outputs": [],
   "source": [
    "population_size = 10"
   ]
  },
  {
   "cell_type": "markdown",
   "metadata": {},
   "source": [
    "### Read data"
   ]
  },
  {
   "cell_type": "markdown",
   "metadata": {},
   "source": [
    "<font color=blue>__Specify path to input file here__</font>"
   ]
  },
  {
   "cell_type": "code",
   "execution_count": 18,
   "metadata": {},
   "outputs": [],
   "source": [
    "file = open(\"instances/a_example.txt\", \"r\")"
   ]
  },
  {
   "cell_type": "markdown",
   "metadata": {},
   "source": [
    "Load data from source file to the program"
   ]
  },
  {
   "cell_type": "code",
   "execution_count": 19,
   "metadata": {},
   "outputs": [],
   "source": [
    "books_number, libraries_number, days_number = [int(x) for x in file.readline().split()]\n",
    "books_scores = tuple([int(x) for x in file.readline().split()])\n",
    "libraries = [None] * libraries_number\n",
    "for i in range(libraries_number):\n",
    "    libraries[i] = (tuple([int(x) for x in file.readline().split()]), tuple([int(x) for x in file.readline().split()]))\n",
    "libraries = tuple(libraries) "
   ]
  },
  {
   "cell_type": "markdown",
   "metadata": {},
   "source": [
    "Get initial population"
   ]
  },
  {
   "cell_type": "code",
   "execution_count": 20,
   "metadata": {},
   "outputs": [],
   "source": [
    "population = get_initial_population(population_size, libraries_number, days_number, libraries, books_scores)    "
   ]
  },
  {
   "cell_type": "markdown",
   "metadata": {},
   "source": [
    "main loop - epochs <br>\n"
   ]
  },
  {
   "cell_type": "code",
   "execution_count": 21,
   "metadata": {},
   "outputs": [
    {
     "ename": "TypeError",
     "evalue": "'<' not supported between instances of 'NoneType' and 'tuple'",
     "output_type": "error",
     "traceback": [
      "\u001b[1;31m---------------------------------------------------------------------------\u001b[0m",
      "\u001b[1;31mTypeError\u001b[0m                                 Traceback (most recent call last)",
      "\u001b[1;32m<ipython-input-21-7239e218f420>\u001b[0m in \u001b[0;36m<module>\u001b[1;34m\u001b[0m\n\u001b[0;32m      4\u001b[0m     \u001b[0mpopulation\u001b[0m\u001b[1;33m.\u001b[0m\u001b[0mextend\u001b[0m\u001b[1;33m(\u001b[0m\u001b[0moffspring\u001b[0m\u001b[1;33m)\u001b[0m\u001b[1;33m\u001b[0m\u001b[1;33m\u001b[0m\u001b[0m\n\u001b[0;32m      5\u001b[0m     \u001b[0mpopulation\u001b[0m\u001b[1;33m.\u001b[0m\u001b[0mextend\u001b[0m\u001b[1;33m(\u001b[0m\u001b[0mmutations\u001b[0m\u001b[1;33m)\u001b[0m\u001b[1;33m\u001b[0m\u001b[1;33m\u001b[0m\u001b[0m\n\u001b[1;32m----> 6\u001b[1;33m     \u001b[0mpopulation\u001b[0m\u001b[1;33m.\u001b[0m\u001b[0msort\u001b[0m\u001b[1;33m(\u001b[0m\u001b[1;33m)\u001b[0m\u001b[1;33m\u001b[0m\u001b[1;33m\u001b[0m\u001b[0m\n\u001b[0m\u001b[0;32m      7\u001b[0m     \u001b[0mpopulation\u001b[0m \u001b[1;33m=\u001b[0m \u001b[0mpopulation\u001b[0m\u001b[1;33m[\u001b[0m\u001b[1;33m:\u001b[0m\u001b[0mpopulation_size\u001b[0m\u001b[1;33m]\u001b[0m\u001b[1;33m\u001b[0m\u001b[1;33m\u001b[0m\u001b[0m\n\u001b[0;32m      8\u001b[0m     \u001b[0mepochs_duration\u001b[0m\u001b[1;33m.\u001b[0m\u001b[0mappend\u001b[0m\u001b[1;33m(\u001b[0m\u001b[0mtime\u001b[0m\u001b[1;33m(\u001b[0m\u001b[1;33m)\u001b[0m\u001b[1;33m)\u001b[0m\u001b[1;33m\u001b[0m\u001b[1;33m\u001b[0m\u001b[0m\n",
      "\u001b[1;31mTypeError\u001b[0m: '<' not supported between instances of 'NoneType' and 'tuple'"
     ]
    }
   ],
   "source": [
    "while epochs_duration[0] + max_duration >= time() + (epochs_duration[-1] - epochs_duration[-2]) * 2:\n",
    "    offspring = get_offspring(days_number, population, libraries)\n",
    "    mutations = do_mutations(population)\n",
    "    population.extend(offspring)\n",
    "    population.extend(mutations)\n",
    "    population.sort()\n",
    "    population = population[:population_size]\n",
    "    epochs_duration.append(time())"
   ]
  },
  {
   "cell_type": "markdown",
   "metadata": {},
   "source": [
    "<hr>\n",
    "\n",
    "### Useful add-ons"
   ]
  },
  {
   "cell_type": "code",
   "execution_count": 22,
   "metadata": {},
   "outputs": [
    {
     "name": "stdout",
     "output_type": "stream",
     "text": [
      "Meta data:\n",
      "\tBooks     -> 6\n",
      "\tLibraries -> 2\n",
      "\tDays      -> 7\n",
      "Books' scores:\n",
      "\t(1, 2, 3, 6, 5, 4)\n",
      "Libraries:\n",
      "\tLibrary no. 0:\n",
      "\t\tNumber of books   -> 5\n",
      "\t\tDays to sign up   -> 2\n",
      "\t\tBook ship per day -> 2\n",
      "\t\tAvailiable books:\n",
      "\t\t\t(0, 1, 2, 3, 4)\n",
      "\n",
      "\tLibrary no. 1:\n",
      "\t\tNumber of books   -> 4\n",
      "\t\tDays to sign up   -> 3\n",
      "\t\tBook ship per day -> 1\n",
      "\t\tAvailiable books:\n",
      "\t\t\t(0, 2, 3, 5)\n",
      "\n"
     ]
    }
   ],
   "source": [
    "def print_input():\n",
    "    #meta data\n",
    "    print('Meta data:')\n",
    "    print('\\tBooks     -> ' + str(books_number))\n",
    "    print('\\tLibraries -> ' + str(libraries_number))\n",
    "    print('\\tDays      -> ' + str(days_number))\n",
    "    \n",
    "    #books scores\n",
    "    print('Books\\' scores:\\n\\t' + str(books_scores))\n",
    "\n",
    "    #libraries\n",
    "    print('Libraries:')\n",
    "    for i, lib in zip(range(len(libraries)), libraries):\n",
    "        print('\\tLibrary no. ' + str(i) + ':')\n",
    "        print('\\t\\tNumber of books   -> ' + str(lib[0][0]))\n",
    "        print('\\t\\tDays to sign up   -> ' + str(lib[0][1]))\n",
    "        print('\\t\\tBook ship per day -> ' + str(lib[0][2]))\n",
    "        print('\\t\\tAvailiable books:')\n",
    "        print('\\t\\t\\t' + str(lib[1]) + '\\n')\n",
    "    \n",
    "print_input()"
   ]
  },
  {
   "cell_type": "code",
   "execution_count": null,
   "metadata": {},
   "outputs": [],
   "source": []
  }
 ],
 "metadata": {
  "kernelspec": {
   "display_name": "Python 3",
   "language": "python",
   "name": "python3"
  },
  "language_info": {
   "codemirror_mode": {
    "name": "ipython",
    "version": 3
   },
   "file_extension": ".py",
   "mimetype": "text/x-python",
   "name": "python",
   "nbconvert_exporter": "python",
   "pygments_lexer": "ipython3",
   "version": "3.7.4"
  }
 },
 "nbformat": 4,
 "nbformat_minor": 4
}
