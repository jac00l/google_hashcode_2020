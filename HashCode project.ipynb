{
 "cells": [
  {
   "cell_type": "markdown",
   "metadata": {},
   "source": [
    "# Introduction"
   ]
  },
  {
   "cell_type": "markdown",
   "metadata": {},
   "source": [
    "## Authors\n",
    "Magdalena Kobusińska nr 145463; 2nd group (Wednesday 8:00)   \n",
    "Jacek Karolczak nr 145446; 1st group (Wednesday 9:45)"
   ]
  },
  {
   "cell_type": "markdown",
   "metadata": {},
   "source": [
    "## Abstract\n",
    "The following document is a code review for the solution of NP-Hard problem, described by Google in Google Hashcode 2020 problem statement. This problem has been assigned as a semester project for Combinatorial Optimization course by M.Sc. Jarosław Synak. The given problem is NP-Hard, we decided to implement the Genetic Algorithm. We also decided to update GA principals to meet our needs. The key difficulty occurred finding good heuristic function.\n",
    "\n",
    "### About the method\n",
    "A genetic algorithm are randomized search algorithms that is inspired by and made to imitate the mechanics of natural selection and natural genetics.It reflects the process of natural selection where the fittest individuals are selected for reproduction in order to produce offspring of the next generation.\n",
    "\n",
    "We choose it mostly because the genetic algorithm can easily be adjusted to the problem at hand. Almost any aspect of the algorithm may be changed and customized.\n",
    "Also, it is worth noting that GA has a lot of advantages, eg. \n",
    "\n",
    "* The concept is easy to understand\n",
    "* It's stochastic\n",
    "* It searches from a population of points, not a single point\n",
    "* It doesn't require any derivative information (There is every possibility that there may not be any information that we can rely on based on the problem).\n",
    "* It's faster and efficient when compared to the traditional methods of brute-force/greedy search.\n",
    "* It hase many parallel capabilities\n",
    "* Optimizes both continuous and discrete functions and also multi-objective problems."
   ]
  },
  {
   "cell_type": "markdown",
   "metadata": {},
   "source": [
    "## Variables desctiption"
   ]
  },
  {
   "cell_type": "markdown",
   "metadata": {},
   "source": [
    "### Input variables\n",
    "\n",
    "    [int] books_number   \n",
    "    Total number of books in all libraries.  \n",
    "    For instance: 1000  \n",
    "\n",
    "    [int] libraries_number   \n",
    "    Number of libraries.  \n",
    "    For instance: 500  \n",
    "\n",
    "    [int] days_number  \n",
    "    Number of days. Time period available for signing and scanning.  \n",
    "    For instance: 80  \n",
    "\n",
    "    [tuple] books   \n",
    "    List of all books' scores.\n",
    "    For instance: (1, 2, 3)\n",
    "\n",
    "    [int] books[i]\n",
    "        Score of a book of ID 'i'. Example: If books[0] equals 10, then score of book of ID 0 equals 10.\n",
    "        For instance: 20\n",
    "\n",
    "    [tuple] libraries  \n",
    "    List of all libraries. Length of this tuple equals libraries_number\n",
    "    For instance (((3, 2, 1), (2, 17, 3)), ..., ...)\n",
    "\n",
    "        [tuple] libraries[i]\n",
    "        Tuple of data and books available in library of ID 'i'.\n",
    "        For instance ((3, 2, 1), (2, 17, 3))\n",
    "\n",
    "            [tuple] libraries[i][0]\n",
    "            Tuple of data about library of ID 'i'. Size of this tuple is fixed to 3.\n",
    "            For instance: (3, 2, 1)\n",
    "\n",
    "                [int] libraries[i][0][0]\n",
    "                Number of books available in library of ID 'i'.\n",
    "                For instance: 3\n",
    "\n",
    "                [int] libraries[i][0][1]\n",
    "                Number of days library of ID 'i' requires to sign up.\n",
    "                For instance: 2\n",
    "\n",
    "                [int] libraries[i][0][2]\n",
    "                Number of books that may be shipped to scan center per day.\n",
    "                For instance: 1\n",
    "\n",
    "            [tuple] libraries[i][1]\n",
    "            Tuple containg IDs of books available in the library of ID 'i'\n",
    "            For instance: (2, 17, 3)\n",
    "  \n",
    "  \n",
    "### Variable needed while running the script\n",
    "    [list] population\n",
    "    List containg many solutions and their values. For more specific info about solutions see bellow.\n",
    "    For instance: [(20, solution2), (30, solution1)]\n",
    "\n",
    "        [int] population[0]\n",
    "        Value of a single, particular and complete solution.\n",
    "        For instance: 90\n",
    "\n",
    "        [tuple] population[1]\n",
    "        Solution. For more specific info about solutions see bellow.\n",
    "        \n",
    "### Output variable  \n",
    "    [tuple] solution\n",
    "    Tuple containg one, particular, solution of a problem. Length of this tuple is fixed to 2.\n",
    "    For instance: (2, (1, 3, (5, 2, 3)), (0, 5, (0, 1, 2, 3, 4)))\n",
    "\n",
    "        [tuple] solution[i][0]\n",
    "        Number of libraries that will be signed up for scanning (in solution of ID 'i').\n",
    "        For instance: 2\n",
    "\n",
    "        [tuple] solution[i][j] (constraint: 1 >= j >= solution[i][0])\n",
    "        Information about library which will be signed up as a j-th one.\n",
    "        For instance: (1, 3, (5, 2, 3))\n",
    "\n",
    "            [int] solution[i][j][0]\n",
    "            ID of a library which will be signed up as a j-th one.\n",
    "            For instance: 1\n",
    "\n",
    "            [int] solution[i][j][1]\n",
    "            Amount of books which will be signed up for scanning.\n",
    "            For instance: 3\n",
    "\n",
    "            [tuple] solution[i][j][2]\n",
    "            IDs of books that will be send for scanning from library of ID solution[i][j][0], id order\n",
    "            For instance: (5, 2, 3)"
   ]
  },
  {
   "cell_type": "markdown",
   "metadata": {},
   "source": [
    "# Preparation"
   ]
  },
  {
   "cell_type": "markdown",
   "metadata": {},
   "source": [
    "## Modules\n",
    "To develop our solution we used following Python built-in modules:\n",
    "\\begin{itemize}\n",
    "\\item \\texttt{time} - to limit time in which our program will be running;\n",
    "\\item \\texttt{random} - to choose random index in creating individual; to choose individuals which will do crossover, according to mating pool;\n",
    "\\item \\texttt{statistics} - to compute heuristic of library, using variance.\n",
    "\\end{itemize}"
   ]
  },
  {
   "cell_type": "code",
   "execution_count": 2,
   "metadata": {},
   "outputs": [],
   "source": [
    "from time import time\n",
    "import random\n",
    "import statistics"
   ]
  },
  {
   "cell_type": "markdown",
   "metadata": {},
   "source": [
    "## Time measurements\n",
    "One of the key requirements of the project is to return a result within 300 seconds from the start of code running. To meet this criterion we decided to store the duration of each epoch (actually time stamp of epoch completion time) in a list."
   ]
  },
  {
   "cell_type": "code",
   "execution_count": 3,
   "metadata": {},
   "outputs": [],
   "source": [
    "epochs_duration = []\n",
    "epochs_duration.append(time())"
   ]
  },
  {
   "cell_type": "markdown",
   "metadata": {},
   "source": [
    "## Library heuristic"
   ]
  },
  {
   "cell_type": "markdown",
   "metadata": {},
   "source": [
    "To compute heuristic value for library we use following formula:\n",
    "$$heuristicValue=\\sqrt{\\frac{\\sum_{i=0}^{size}bookScore_{i}}{max(0.01, var(bookScores))*signUpTime}}$$\n",
    "We want to maximize the sum of scores of books in the given library. That is why we put this value in the numerator. Another factor which we decided to take into account was time necessary to sign up the library - we want to minimize this factor, so we put it in the denominator. The last factor, which changed the results of our program was the variance of books' scores in the library. In some test cases, for some libraries variance was equal to zero, so we added substitution with 0.01 if variance equals 0. At the end we take square root of value computed using previously described steps, to make more probable to choose also libraries with lower values. Therefore we try to avoid stucking in local optima."
   ]
  },
  {
   "cell_type": "code",
   "execution_count": 3,
   "metadata": {},
   "outputs": [],
   "source": [
    "def library_heuristic(library, books_scores):\n",
    "    if len(library[1]) == 1:\n",
    "        return library[1][0]\n",
    "    books = library[1]\n",
    "    scores = [books_scores[x] for x in books]\n",
    "    total_score = sum(scores)\n",
    "    variance = statistics.variance(scores)\n",
    "    return total_score / (max(0.01, variance) * library[0][1])"
   ]
  },
  {
   "cell_type": "markdown",
   "metadata": {},
   "source": [
    "## Evaluation function "
   ]
  },
  {
   "cell_type": "markdown",
   "metadata": {},
   "source": [
    "In many places, it is useful or even necessary to know how good is the particular solution. Thus we decided to implement a function, which will return fitness value for the solution - fitness value is a precise value which is described in Google Hashcode problem description."
   ]
  },
  {
   "cell_type": "code",
   "execution_count": 4,
   "metadata": {},
   "outputs": [],
   "source": [
    "def evaluate_solution(solution, books_scores):\n",
    "    books_scanned = set()\n",
    "    points = 0\n",
    "    number_of_libraries = solution[0]\n",
    "    for i in range(1, number_of_libraries+1):\n",
    "        number_of_books = solution[i][1]\n",
    "        for j in range(number_of_books):\n",
    "            book_to_add = solution[i][2][j]\n",
    "            if book_to_add not in books_scanned:\n",
    "                books_scanned.add(book_to_add)\n",
    "    solution_score = 0\n",
    "    for i in books_scanned:\n",
    "        solution_score += books_scores[i]\n",
    "        \n",
    "    return solution_score"
   ]
  },
  {
   "cell_type": "markdown",
   "metadata": {},
   "source": [
    "## Get complete solution from list of solutions"
   ]
  },
  {
   "cell_type": "markdown",
   "metadata": {},
   "source": [
    "In many places, like mutation and crossover operators, our program operates on a set containing libraries chosen to sign up in particular solution, which is ordered according to order in the sign-up queue. Following function transform such a list into complete and valid solution. For each day, for each library, as long as there is time to send the book, is chosen a book (or books) with the highest score, which is available in the library and hasn't been sent by another library."
   ]
  },
  {
   "cell_type": "code",
   "execution_count": 5,
   "metadata": {},
   "outputs": [],
   "source": [
    "def get_complete_solution(solution_indices, libraries, days_number, books_scores):\n",
    "    time_pointer = days_number\n",
    "    used_books = set()\n",
    "    complete_solution = [len(solution_indices)]\n",
    "    for i in solution_indices:\n",
    "        time_pointer -= libraries[i][0][1]\n",
    "        books_per_day = libraries[i][0][2]\n",
    "        available_books = list(libraries[i][1])\n",
    "        particular_solution = [i, 0, []]\n",
    "        for x in available_books:\n",
    "            if len(particular_solution[2]) > time_pointer * books_per_day:\n",
    "                break\n",
    "            if x not in used_books:\n",
    "                particular_solution[2].append(x)\n",
    "                particular_solution[1] += 1\n",
    "                used_books.add(x)\n",
    "        particular_solution[2] = tuple(particular_solution[2])\n",
    "        complete_solution.append(tuple(particular_solution))\n",
    "    return tuple(complete_solution)"
   ]
  },
  {
   "cell_type": "markdown",
   "metadata": {},
   "source": [
    "# Genetic Operators\n",
    "## Selection\n",
    "### Initial population\n",
    "Each solution is created by adding arbitrary, not used the library to the solution as long as the time necessary to sign up all library in solution doesn't exceed available time. Choosing arbitrary library is determined by its heuristic values - the higher the value the more preferable library."
   ]
  },
  {
   "cell_type": "code",
   "execution_count": 6,
   "metadata": {},
   "outputs": [],
   "source": [
    "def get_random_solution(libraries_number, days_number, libraries, libraries_heuristics, books_scores):\n",
    "    libraries_to_use = list(range(libraries_number))\n",
    "    libraries_to_use_heuristics = list(libraries_heuristics)\n",
    "    solution_indices = []\n",
    "    time_pointer = 0\n",
    "    while True:\n",
    "        if not len(libraries_to_use):\n",
    "            return get_complete_solution(solution_indices, libraries, days_number, books_scores)\n",
    "        random_index = random.choices(list(range(0, len(libraries_to_use))), weights = libraries_to_use_heuristics, k = 1)[0]\n",
    "        del libraries_to_use[random_index]\n",
    "        del libraries_to_use_heuristics[random_index]\n",
    "        if time_pointer + libraries[random_index][0][1] > days_number:\n",
    "            break                                 \n",
    "        solution_indices.append(random_index)\n",
    "        time_pointer += libraries[random_index][0][1]\n",
    "    return get_complete_solution(solution_indices, libraries, days_number, books_scores)"
   ]
  },
  {
   "cell_type": "markdown",
   "metadata": {},
   "source": [
    "The evolutionary process begins with initialization, wherein an initial population of candidate solutions is generated. We decided to create the initial population as long as it's size is equal to set size or the half of available time runs out. The last element of the initial population is a greedy solution (see below)."
   ]
  },
  {
   "cell_type": "code",
   "execution_count": 7,
   "metadata": {},
   "outputs": [],
   "source": [
    "def get_initial_population(population_size, libraries_number, days_number, libraries, libraries_heuristics, books, timestamp, max_duration):\n",
    "    population = []\n",
    "    for i in range(population_size):\n",
    "        population.append(get_random_solution(libraries_number, days_number, libraries, libraries_heuristics, books))\n",
    "        if i % 2 and time() - timestamp >= max_duration / 2:\n",
    "            return (i, population)\n",
    "    return (population_size, population)"
   ]
  },
  {
   "cell_type": "markdown",
   "metadata": {},
   "source": [
    "### Get greedy-like solution\n",
    "One of project requirement is to return the result which is not worse than the greedy solution. To meet this constraint we decided, that program will add the greedy-like solution to the initial population, to be sure, that our final solution won't be worse than the greedy solution."
   ]
  },
  {
   "cell_type": "code",
   "execution_count": 8,
   "metadata": {},
   "outputs": [],
   "source": [
    "def get_greedy_solution(libraries_number, days_number, libraries, libraries_heuristics, books_scores):\n",
    "    libraries_to_use = list(range(libraries_number))\n",
    "    libraries_to_use.sort(key = lambda x: library_heuristic(libraries[x], books_scores), reverse = True)\n",
    "    solution_indices = []\n",
    "    time_pointer = 0\n",
    "    for i in range(libraries_number):\n",
    "        if time_pointer + libraries[libraries_to_use[i]][0][1] >= days_number:\n",
    "            break\n",
    "        solution_indices.append(libraries_to_use[i])\n",
    "        time_pointer += libraries[libraries_to_use[i]][0][1]\n",
    "    return get_complete_solution(solution_indices, libraries, days_number, books_scores)"
   ]
  },
  {
   "cell_type": "markdown",
   "metadata": {},
   "source": [
    "### Mutation"
   ]
  },
  {
   "cell_type": "markdown",
   "metadata": {},
   "source": [
    "The algorithm swap nucleotides in three pairs. Thus, it's prone to omit optima, but after our first experiments we figured out, that on our instances that gives better results if our time is not limited."
   ]
  },
  {
   "cell_type": "code",
   "execution_count": 9,
   "metadata": {},
   "outputs": [],
   "source": [
    "def mutate(solution, libraries, days_number, books_scores):\n",
    "    solution_indices = [solution[i][0] for i in range(1, len(solution))]\n",
    "    for _ in range(3):\n",
    "        nucleotide_a = random.randint(0, len(solution_indices) - 1)\n",
    "        nucleotide_b = random.randint(0, len(solution_indices) - 1)\n",
    "        solution_indices[nucleotide_a], solution_indices[nucleotide_b] = solution_indices[nucleotide_b], solution_indices[nucleotide_a]\n",
    "    return get_complete_solution(solution_indices, libraries, days_number, books_scores)"
   ]
  },
  {
   "cell_type": "markdown",
   "metadata": {},
   "source": [
    "Our Genetic Algorithm mutate each solution, we do not use any probability to determine chance of mutation occurence like in a typicial GP."
   ]
  },
  {
   "cell_type": "code",
   "execution_count": 10,
   "metadata": {},
   "outputs": [],
   "source": [
    "def do_mutations(population, libraries, days_number, books_scores):\n",
    "    mutated_solutions = []\n",
    "    for solution in population:\n",
    "        mutated_solutions.append(mutate(solution, libraries, days_number, books_scores))\n",
    "    return mutated_solutions"
   ]
  },
  {
   "cell_type": "markdown",
   "metadata": {},
   "source": [
    "## Crossover"
   ]
  },
  {
   "cell_type": "markdown",
   "metadata": {},
   "source": [
    "Crossover is a genetic operator used to vary the programming of a chromosome or chromosomes from one generation to the next. Two strings are picked from the mating pool at random to crossover to produce superior offspring. Our program uses a single-point crossover. It means that the first child consists of the first part of first parent and second from the second one and the second child consists of the first part of the second parent and second from the first one. The algorithm takes care also for validness of the solution. "
   ]
  },
  {
   "cell_type": "code",
   "execution_count": 11,
   "metadata": {},
   "outputs": [],
   "source": [
    "def get_children(parent_a, parent_b, libraries, days_number, books_scores):\n",
    "    parent_a_indices = [parent_a[i][0] for i in range(1, len(parent_a))]\n",
    "    parent_b_indices = [parent_b[i][0] for i in range(1, len(parent_b))]\n",
    "    split_point = random.randint(0, min(len(parent_a_indices), len(parent_b_indices)) - 1)\n",
    "    child_a_indices = parent_a_indices[:split_point] + [x for x in parent_b_indices[split_point:] if x not in parent_a_indices[:split_point]]\n",
    "    child_b_indices = parent_b_indices[:split_point] + [x for x in parent_a_indices[split_point:] if x not in parent_b_indices[:split_point]]\n",
    "    for parent in (parent_a_indices, parent_b_indices):\n",
    "        time_pointer = 0\n",
    "        for i in range(len(parent)):\n",
    "            if time_pointer >= days_number:\n",
    "                parent_a_indices = parent[:i]\n",
    "                break\n",
    "            time_pointer += libraries[parent[i]][1]\n",
    "        time_pointer = 0\n",
    "    child_a = get_complete_solution(child_a_indices, libraries, days_number, books_scores)\n",
    "    child_b = get_complete_solution(child_b_indices, libraries, days_number, books_scores)\n",
    "    return (child_a, child_b)"
   ]
  },
  {
   "cell_type": "markdown",
   "metadata": {},
   "source": [
    "Our algorithm creates new individuals in such a way, that offspring size equals population size. The mating pool consists of values of the population."
   ]
  },
  {
   "cell_type": "code",
   "execution_count": 12,
   "metadata": {},
   "outputs": [],
   "source": [
    "def get_offspring(population, libraries, days_number, books_scores):\n",
    "    offspring = []\n",
    "    mating_pool = [evaluate_solution(population[i], books_scores) for i in range(len(population))] \n",
    "    for i in range(len(population), 2):\n",
    "        offspring.append(get_children(random.choices(population, weights = mating_pool, k = 2)), libraries, days_number, books_scores)\n",
    "    return tuple(offspring)"
   ]
  },
  {
   "cell_type": "markdown",
   "metadata": {},
   "source": [
    "# Main\n",
    "## Parameterization\n",
    "Time is specified by a project requirements."
   ]
  },
  {
   "cell_type": "code",
   "execution_count": 13,
   "metadata": {},
   "outputs": [],
   "source": [
    "max_duration = 300"
   ]
  },
  {
   "cell_type": "markdown",
   "metadata": {},
   "source": [
    "The population size and operators should not be kept very large as it can cause a GA to slow down, while a smaller population might not be enough for a good mating pool. Therefore, an optimal population size needs to be decided by trial and error. We did many experiments to find operators which will do best in finding the best solution. This same had been done for the size of the population."
   ]
  },
  {
   "cell_type": "code",
   "execution_count": 40,
   "metadata": {},
   "outputs": [],
   "source": [
    "population_size = 80"
   ]
  },
  {
   "cell_type": "markdown",
   "metadata": {},
   "source": [
    "## Read data\n",
    "The following part of a code is responsible for decapsulation input data to useful and understable for the program form."
   ]
  },
  {
   "cell_type": "code",
   "execution_count": null,
   "metadata": {},
   "outputs": [],
   "source": [
    "books_number, libraries_number, days_number = [int(x) for x in input().split()]\n",
    "books_scores = tuple([int(x) for x in input().split()])\n",
    "libraries = [None] * libraries_number\n",
    "for i in range(libraries_number):\n",
    "    libraries[i] = tuple([int(x) for x in input().split()]), tuple(sorted([int(x) for x in input().split()], key = lambda x: books_scores[x], reverse = True))\n",
    "libraries = tuple(libraries)"
   ]
  },
  {
   "cell_type": "markdown",
   "metadata": {},
   "source": [
    "Tuple libraries is a complex variable. Thus we present structure of this variable:\n",
    "\\newline\n",
    "\\setlength{\\parindent}{5mm}\n",
    "\\indent [tuple] `libraries`\\newline\n",
    "\\indent List of all libraries. Length of this tuple equals `libraries_number`\\newline\n",
    "\\indent For instance `(((3, 2, 1), (2, 17, 3)), ..., ...)`\n",
    "\n",
    "\\setlength{\\parindent}{10mm}\n",
    "\\indent [tuple] `libraries[i]`\\newline\n",
    "\\indent Tuple of data and books available in library of ID `i`.\\newline\n",
    "\\indent For instance `((3, 2, 1), (2, 17, 3))`\n",
    "\n",
    "\\setlength{\\parindent}{15mm}\n",
    "\\indent [tuple] `libraries[i][0]`\\newline\n",
    "\\indent Tuple of data about library of ID `i`. Size of this tuple is fixed to 3.\\newline\n",
    "\\indent For instance: `(3, 2, 1)`\n",
    "\n",
    "\\setlength{\\parindent}{20mm}\n",
    "\\indent [int] `libraries[i][0][0]`\\newline\n",
    "\\indent Number of books available in library of ID `i`.\\newline\n",
    "\\indent For instance: `3`\n",
    "\n",
    "\\setlength{\\parindent}{20mm}\n",
    "\\indent [int] `libraries[i][0][1]`\\newline\n",
    "\\indent Number of days library of ID `i` requires to sign up.\\newline\n",
    "\\indent For instance: `2`\n",
    "\n",
    "\\setlength{\\parindent}{20mm}\n",
    "\\indent [int] `libraries[i][0][2]`\\newline\n",
    "\\indent Number of books that may be shipped to scan center per day.\\newline\n",
    "\\indent For instance: `1`\n",
    "\n",
    "\\setlength{\\parindent}{15mm}\n",
    "\\indent [tuple] `libraries[i][1]`\\newline\n",
    "\\indent Tuple containg IDs of books available in the library of ID `i`.\\newline\n",
    "\\indent For instance: `(2, 17, 3)`"
   ]
  },
  {
   "cell_type": "markdown",
   "metadata": {},
   "source": [
    "## Getting the initial population\n",
    "The following snippet is responsible for creating a tuple, which stores heuristic values for libraries. Such values are necessary to create an initial population. The mechanism is widely described above function which is in charge of creating the initial population."
   ]
  },
  {
   "cell_type": "code",
   "execution_count": null,
   "metadata": {},
   "outputs": [],
   "source": [
    "libraries_heuristics = tuple([library_heuristic(library, books_scores) for library in libraries])"
   ]
  },
  {
   "cell_type": "markdown",
   "metadata": {},
   "source": [
    "Here program is obtaining initial population. Process of generating population is limited to half of the time given to execute the program, to prevent exceeding time with no solution or with quite a poor solution. Thus, the final population size may vary from given in parameters declaration."
   ]
  },
  {
   "cell_type": "code",
   "execution_count": null,
   "metadata": {},
   "outputs": [],
   "source": [
    "population_size, population = get_initial_population(population_size - 1, libraries_number, days_number, libraries, libraries_heuristics, books_scores, epochs_duration[0], max_duration)"
   ]
  },
  {
   "cell_type": "markdown",
   "metadata": {},
   "source": [
    "One of the requirements of the project is to return solution which is not worse than the greedy solution. To meet this requirement program add the greedy solution to the initial population. We are aware that adding greedy solution may make program prone to stuck in local optima, but we want to be sure, that in a worst-case out solution will be at least as good as a greedy solution."
   ]
  },
  {
   "cell_type": "code",
   "execution_count": null,
   "metadata": {},
   "outputs": [],
   "source": [
    "population_size += 1\n",
    "population.append(get_greedy_solution(libraries_number, days_number, libraries, libraries_heuristics, books_scores))"
   ]
  },
  {
   "cell_type": "markdown",
   "metadata": {},
   "source": [
    "## Main loop - epochs\n",
    "Epochs are executed as long as time remaining for program execution is greater or equal to doubled last epoch's duration + 5 seconds. This guarantee, that program will not only finish searching for the best solution but also print the best solution in a given time. The program repeat the following procedure:\n",
    "```\n",
    "In each epoch:\n",
    "    extend population with mutated individuals\n",
    "    extend population with offspring\n",
    "    choose population_size best indiciduals to create new population\n",
    "```"
   ]
  },
  {
   "cell_type": "code",
   "execution_count": null,
   "metadata": {},
   "outputs": [],
   "source": [
    "epochs_duration.append(time())\n",
    "while epochs_duration[0] + max_duration - 5 >= time() + (epochs_duration[-1] - epochs_duration[-2]) * 2:\n",
    "    mutations = do_mutations(population, libraries, days_number, books_scores)\n",
    "    offspring = get_offspring(population, days_number, libraries, books_scores)\n",
    "    population.extend(mutations)\n",
    "    population.extend(offspring)\n",
    "    population.sort(key = lambda x: evaluate_solution(x, books_scores), reverse = True)\n",
    "    population = population[:population_size]\n",
    "    epochs_duration.append(time())"
   ]
  },
  {
   "cell_type": "markdown",
   "metadata": {},
   "source": [
    "At the end, when program is running out of time, best solution as first individual of population. Thus last step to obtain solution is to print it out. Our program do this in a format specified by project requirements."
   ]
  },
  {
   "cell_type": "code",
   "execution_count": null,
   "metadata": {},
   "outputs": [],
   "source": [
    "print(population[0][0])\n",
    "\n",
    "for i in range(1, len(population[0])):\n",
    "    print(population[0][i][0], population[0][i][1], end = \" \")\n",
    "    print(\" \".join([str(x) for x in population[0][i][2]]))"
   ]
  },
  {
   "cell_type": "markdown",
   "metadata": {},
   "source": [
    "# Sum of all instances\n",
    "After applying everything that was explained above, we run the program for six different data sets which were given. The final answer is the sum of the best scores for the individual data sets. The results are showed below.\n",
    "\n",
    "\\begin{itemize} \n",
    "    \\item \\texttt{a{\\textunderscore}example.txt} solution is: 21\n",
    "    \\item \\texttt{b{\\textunderscore}read{\\textunderscore}on.txt} solution is: 5831900\n",
    "    \\item \\texttt{c{\\textunderscore}incunabula.txt} solution is: 5414171\n",
    "    \\item \\texttt{d{\\textunderscore}tough{\\textunderscore}choices.txt} solution is: 4815200\n",
    "    \\item \\texttt{e{\\textunderscore}so{\\textunderscore}many{\\textunderscore}books.txt} solution is: 4610173 \n",
    "    \\item \\texttt{f{\\textunderscore}libraries{\\textunderscore}of{\\textunderscore}the{\\textunderscore}world.txt} solution is: 4116926\n",
    "\\end{itemize}\n",
    "\n",
    "So it gives us the total solution of 24788391 points."
   ]
  }
 ],
 "metadata": {
  "kernelspec": {
   "display_name": "Python 3",
   "language": "python",
   "name": "python3"
  },
  "language_info": {
   "codemirror_mode": {
    "name": "ipython",
    "version": 3
   },
   "file_extension": ".py",
   "mimetype": "text/x-python",
   "name": "python",
   "nbconvert_exporter": "python",
   "pygments_lexer": "ipython3",
   "version": "3.7.4"
  }
 },
 "nbformat": 4,
 "nbformat_minor": 4
}
